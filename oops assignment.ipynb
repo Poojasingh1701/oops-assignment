{
 "cells": [
  {
   "cell_type": "code",
   "execution_count": 1,
   "id": "acc05c28-03f1-4adf-bb5e-31f79e5425bf",
   "metadata": {},
   "outputs": [],
   "source": [
    "#Q2. Name the four pillars of OOPs."
   ]
  },
  {
   "cell_type": "code",
   "execution_count": null,
   "id": "c561ac44-a14a-40af-9f64-28da665603b4",
   "metadata": {},
   "outputs": [],
   "source": [
    "Inheritance, Polymorphism, Encapsulation and Abstraction."
   ]
  },
  {
   "cell_type": "code",
   "execution_count": 3,
   "id": "00eaeb90-1b0e-48d0-aca6-8aedb8816e18",
   "metadata": {},
   "outputs": [],
   "source": [
    "#Q1. Explain Class and Object with respect to Object-Oriented Programming. Give a suitable example."
   ]
  },
  {
   "cell_type": "code",
   "execution_count": null,
   "id": "4dc8a85f-ecea-4bbe-8453-6ee03f2d3641",
   "metadata": {},
   "outputs": [],
   "source": [
    "#class = \n",
    "A class is a blueprint or a template for creating objects. It defines the structure and behavior of objects of that class.\n",
    "\n",
    "#object = \n",
    "An object is an instance of a class. It is a concrete realization of the class blueprint."
   ]
  },
  {
   "cell_type": "code",
   "execution_count": 4,
   "id": "21ab944a-fb1b-4e1d-9608-4fb8856f46ac",
   "metadata": {},
   "outputs": [],
   "source": [
    "# example"
   ]
  },
  {
   "cell_type": "code",
   "execution_count": 5,
   "id": "d2983526-d50b-4062-a507-8e94d355bcae",
   "metadata": {},
   "outputs": [],
   "source": [
    "class pwskills1 :\n",
    "    def __init__(self, phone_number, email_id, student_id):\n",
    "        self.phone_number = phone_number\n",
    "        self.email_id = email_id\n",
    "        self.student_id = student_id\n",
    "        \n",
    "    def return_student_details(self):\n",
    "        return self.student_id, self.email_id, self.phone_number"
   ]
  },
  {
   "cell_type": "code",
   "execution_count": 7,
   "id": "3347f6db-5919-4879-9797-c2ffac611c2e",
   "metadata": {},
   "outputs": [],
   "source": [
    "sohan = pwskills1(1234569872, \"sohan@gmail.com\" , 121)"
   ]
  },
  {
   "cell_type": "code",
   "execution_count": 8,
   "id": "dca96467-be5a-442b-8eae-8a99ac7487aa",
   "metadata": {},
   "outputs": [
    {
     "data": {
      "text/plain": [
       "(121, 'sohan@gmail.com', 1234569872)"
      ]
     },
     "execution_count": 8,
     "metadata": {},
     "output_type": "execute_result"
    }
   ],
   "source": [
    "sohan.return_student_details()"
   ]
  },
  {
   "cell_type": "code",
   "execution_count": 9,
   "id": "07e39dac-ae8d-48fd-b61b-aeb2095f658b",
   "metadata": {},
   "outputs": [],
   "source": [
    "#Q3. explain why the __init__() functions is used."
   ]
  },
  {
   "cell_type": "code",
   "execution_count": null,
   "id": "7b81c399-f3c0-4ca5-8ca2-beee2960bd20",
   "metadata": {},
   "outputs": [],
   "source": [
    "The __init__() function is used to initialize the attributes of an object when it is created from a class. \n",
    "It is commonly known as the constructor method. \n",
    "The primary purpose of __init__() is to set up the initial state of an object by assigning values to its attributes."
   ]
  },
  {
   "cell_type": "code",
   "execution_count": 10,
   "id": "47511937-9845-48b7-9072-b011873f9b48",
   "metadata": {},
   "outputs": [],
   "source": [
    "# example"
   ]
  },
  {
   "cell_type": "code",
   "execution_count": 11,
   "id": "46a43f01-5061-4e8e-bf61-4410f0f12683",
   "metadata": {},
   "outputs": [],
   "source": [
    "class person:\n",
    "    def __init__(self , name , age):\n",
    "        self.name = name\n",
    "        self.age = age\n",
    "        \n",
    "    def return_person_details(self):\n",
    "        return self.name , self.age"
   ]
  },
  {
   "cell_type": "code",
   "execution_count": 15,
   "id": "a2741b90-234a-4d2c-a81c-6dd15e5b84e0",
   "metadata": {},
   "outputs": [],
   "source": [
    "person1 = person(\"pooja\", 23)"
   ]
  },
  {
   "cell_type": "code",
   "execution_count": 16,
   "id": "2ce6f76a-0bb5-4e42-a1ec-cc8085987090",
   "metadata": {},
   "outputs": [
    {
     "data": {
      "text/plain": [
       "('pooja', 23)"
      ]
     },
     "execution_count": 16,
     "metadata": {},
     "output_type": "execute_result"
    }
   ],
   "source": [
    "person1.return_person_details()"
   ]
  },
  {
   "cell_type": "code",
   "execution_count": 17,
   "id": "c0d980c9-255a-4ca9-8639-a50d55b41b6b",
   "metadata": {},
   "outputs": [],
   "source": [
    "#Q4. Why self is used in OOPs?"
   ]
  },
  {
   "cell_type": "code",
   "execution_count": null,
   "id": "3da649bd-4564-4fb6-bc64-365a13b4dbc5",
   "metadata": {},
   "outputs": [],
   "source": [
    "self is not reseverd keyword to access and modify the attributes of an object from within its methods. \n",
    "For example, if you have a class 'Person' with an attribute 'name', you can use 'self.name' to refer to the 'name' attribute of the current instance."
   ]
  },
  {
   "cell_type": "code",
   "execution_count": 18,
   "id": "56120b97-57b4-478f-9113-5f91fdb8c621",
   "metadata": {},
   "outputs": [],
   "source": [
    "#Q5. What is inheritance? Give an example for each type of inheritance."
   ]
  },
  {
   "cell_type": "code",
   "execution_count": null,
   "id": "ad553429-4879-45cd-bc0e-39f0fd976093",
   "metadata": {},
   "outputs": [],
   "source": [
    "Inheritance allows us to define a class that inherits all the methods and properties from another class."
   ]
  },
  {
   "cell_type": "code",
   "execution_count": 1,
   "id": "3eddb516-95a6-4ad9-93b8-7b1cefcaae92",
   "metadata": {},
   "outputs": [],
   "source": [
    "# example"
   ]
  },
  {
   "cell_type": "code",
   "execution_count": 4,
   "id": "613c2b01-d2c9-440b-8121-2a1b966472e1",
   "metadata": {},
   "outputs": [],
   "source": [
    "class test:\n",
    "    def test_meth(self):\n",
    "        return \"this is my first class\"\n",
    "    "
   ]
  },
  {
   "cell_type": "code",
   "execution_count": 5,
   "id": "8eaaab52-1c9b-4b41-9f37-e008d667f362",
   "metadata": {},
   "outputs": [],
   "source": [
    "class child_test(test):\n",
    "    pass\n",
    "\n",
    "    "
   ]
  },
  {
   "cell_type": "code",
   "execution_count": 6,
   "id": "ec0f7e1e-156a-446d-8520-c2b04da2d366",
   "metadata": {},
   "outputs": [],
   "source": [
    "child_test_obj = child_test()"
   ]
  },
  {
   "cell_type": "code",
   "execution_count": 7,
   "id": "5f0ffd1c-abc4-4557-b89d-c90d53ecf177",
   "metadata": {},
   "outputs": [
    {
     "data": {
      "text/plain": [
       "'this is my first class'"
      ]
     },
     "execution_count": 7,
     "metadata": {},
     "output_type": "execute_result"
    }
   ],
   "source": [
    "child_test_obj.test_meth()"
   ]
  },
  {
   "cell_type": "code",
   "execution_count": null,
   "id": "877dab28-bd88-410e-afb8-28740c4e9be5",
   "metadata": {},
   "outputs": [],
   "source": []
  }
 ],
 "metadata": {
  "kernelspec": {
   "display_name": "Python 3 (ipykernel)",
   "language": "python",
   "name": "python3"
  },
  "language_info": {
   "codemirror_mode": {
    "name": "ipython",
    "version": 3
   },
   "file_extension": ".py",
   "mimetype": "text/x-python",
   "name": "python",
   "nbconvert_exporter": "python",
   "pygments_lexer": "ipython3",
   "version": "3.10.8"
  }
 },
 "nbformat": 4,
 "nbformat_minor": 5
}
